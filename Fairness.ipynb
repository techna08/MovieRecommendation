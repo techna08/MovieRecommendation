{
 "cells": [
  {
   "cell_type": "markdown",
   "id": "023756bf",
   "metadata": {},
   "source": [
    "# Fairness Analysis"
   ]
  },
  {
   "cell_type": "code",
   "execution_count": 2,
   "id": "8cf534b4",
   "metadata": {},
   "outputs": [],
   "source": [
    "import pandas as pd\n",
    "import glob\n",
    "import requests\n",
    "import json\n",
    "from collections import defaultdict"
   ]
  },
  {
   "cell_type": "code",
   "execution_count": 104,
   "id": "d3b7e1bb",
   "metadata": {},
   "outputs": [],
   "source": [
    "baseline_file_paths = glob.glob('./logvolume_baseline/*.csv')\n",
    "svd_file_paths = glob.glob('./logvolume_svd/*.csv')\n",
    "dfs = pd.DataFrame()\n",
    "for file in baseline_file_paths:\n",
    "    column_types = {'user_id': 'string', 'recommendations': 'string'}\n",
    "    df = pd.read_csv(file, dtype = column_types)[['user_id', 'recommendations']]\n",
    "    dfs = pd.concat([dfs, df], axis=0)\n",
    "for file in svd_file_paths:\n",
    "    df = pd.read_csv(file, dtype = column_types)[['user_id', 'recommendations']]\n",
    "    dfs = pd.concat([dfs, df], axis=0)\n",
    "dfs = dfs.reset_index(drop=True)"
   ]
  },
  {
   "cell_type": "code",
   "execution_count": 105,
   "id": "ca7a80ab",
   "metadata": {},
   "outputs": [
    {
     "data": {
      "text/html": [
       "<div>\n",
       "<style scoped>\n",
       "    .dataframe tbody tr th:only-of-type {\n",
       "        vertical-align: middle;\n",
       "    }\n",
       "\n",
       "    .dataframe tbody tr th {\n",
       "        vertical-align: top;\n",
       "    }\n",
       "\n",
       "    .dataframe thead th {\n",
       "        text-align: right;\n",
       "    }\n",
       "</style>\n",
       "<table border=\"1\" class=\"dataframe\">\n",
       "  <thead>\n",
       "    <tr style=\"text-align: right;\">\n",
       "      <th></th>\n",
       "      <th>user_id</th>\n",
       "      <th>recommendations</th>\n",
       "    </tr>\n",
       "  </thead>\n",
       "  <tbody>\n",
       "    <tr>\n",
       "      <th>0</th>\n",
       "      <td>257870</td>\n",
       "      <td>['the+shawshank+redemption+1994', 'the+godfath...</td>\n",
       "    </tr>\n",
       "    <tr>\n",
       "      <th>1</th>\n",
       "      <td>179100</td>\n",
       "      <td>['the+shawshank+redemption+1994', 'the+godfath...</td>\n",
       "    </tr>\n",
       "    <tr>\n",
       "      <th>2</th>\n",
       "      <td>64290</td>\n",
       "      <td>['the+shawshank+redemption+1994', 'the+godfath...</td>\n",
       "    </tr>\n",
       "    <tr>\n",
       "      <th>3</th>\n",
       "      <td>914800</td>\n",
       "      <td>['the+shawshank+redemption+1994', 'the+godfath...</td>\n",
       "    </tr>\n",
       "    <tr>\n",
       "      <th>4</th>\n",
       "      <td>570960</td>\n",
       "      <td>['the+shawshank+redemption+1994', 'the+godfath...</td>\n",
       "    </tr>\n",
       "  </tbody>\n",
       "</table>\n",
       "</div>"
      ],
      "text/plain": [
       "  user_id                                    recommendations\n",
       "0  257870  ['the+shawshank+redemption+1994', 'the+godfath...\n",
       "1  179100  ['the+shawshank+redemption+1994', 'the+godfath...\n",
       "2   64290  ['the+shawshank+redemption+1994', 'the+godfath...\n",
       "3  914800  ['the+shawshank+redemption+1994', 'the+godfath...\n",
       "4  570960  ['the+shawshank+redemption+1994', 'the+godfath..."
      ]
     },
     "execution_count": 105,
     "metadata": {},
     "output_type": "execute_result"
    }
   ],
   "source": [
    "dfs.head()"
   ]
  },
  {
   "cell_type": "code",
   "execution_count": 112,
   "id": "c9678bb5",
   "metadata": {},
   "outputs": [
    {
     "data": {
      "text/plain": [
       "(3932620, 2)"
      ]
     },
     "execution_count": 112,
     "metadata": {},
     "output_type": "execute_result"
    }
   ],
   "source": [
    "dfs.shape"
   ]
  },
  {
   "cell_type": "code",
   "execution_count": 174,
   "id": "fc8e830f",
   "metadata": {},
   "outputs": [],
   "source": [
    "# Sample 10000 rows randomly from predictions made from April 17 to April 23.\n",
    "sample_dfs = dfs.sample(n=1000, random_state=72).reset_index(drop=True) "
   ]
  },
  {
   "cell_type": "code",
   "execution_count": 175,
   "id": "d6864123",
   "metadata": {},
   "outputs": [],
   "source": [
    "userids = sample_dfs.user_id\n",
    "user_info = {}\n",
    "movie_info = defaultdict(list)\n",
    "indices = list(sample_dfs.user_id.index)\n",
    "for i in indices:\n",
    "    userid = userids[i]\n",
    "    user_api_url = f'http://128.2.204.215:8080/user/{userid}'\n",
    "    user_response = requests.get(user_api_url)\n",
    "    \n",
    "    if user_response.status_code == 200:\n",
    "        user_response_data = json.loads(user_response.text)\n",
    "        user_info[i] = user_response_data\n",
    "        \n",
    "    else:\n",
    "        print('Error occurred: Status Code', response.status_code)\n",
    "        print(userid)\n",
    "    movieids = list(map(lambda x: x[1:-1], sample_dfs.recommendations[i][1:-1].split(\", \")))\n",
    "    for movieid in movieids:  \n",
    "        movie_api_url = f'http://128.2.204.215:8080/movie/{movieid}'\n",
    "        movie_response = requests.get(movie_api_url)\n",
    "        \n",
    "        if movie_response.status_code == 200:\n",
    "            movie_response_data = json.loads(movie_response.text)\n",
    "            movie_info[i].append(movie_response_data['genres'])"
   ]
  },
  {
   "cell_type": "code",
   "execution_count": 113,
   "id": "78febcbe",
   "metadata": {},
   "outputs": [
    {
     "data": {
      "text/plain": [
       "{'user_id': 733594, 'age': 28, 'occupation': 'scientist', 'gender': 'F'}"
      ]
     },
     "execution_count": 113,
     "metadata": {},
     "output_type": "execute_result"
    }
   ],
   "source": [
    "user_info[999]"
   ]
  },
  {
   "cell_type": "code",
   "execution_count": 121,
   "id": "3da2c23d",
   "metadata": {},
   "outputs": [
    {
     "data": {
      "text/plain": [
       "[{'id': 18, 'name': 'Drama'}, {'id': 80, 'name': 'Crime'}]"
      ]
     },
     "execution_count": 121,
     "metadata": {},
     "output_type": "execute_result"
    }
   ],
   "source": [
    "movie_info[999]"
   ]
  },
  {
   "cell_type": "markdown",
   "id": "fd3eae2f",
   "metadata": {},
   "source": [
    "## We would like to see if `Romance` and `Action` movies are recommended equally to males and females"
   ]
  },
  {
   "cell_type": "code",
   "execution_count": 184,
   "id": "d342c274",
   "metadata": {},
   "outputs": [],
   "source": [
    "def movie_genre_ratio_by_gender(eval_genre):\n",
    "    female_count = sum([1 if user_info[i]['gender'] == 'F' else 0 for i in user_info.keys()])\n",
    "    male_count = len(user_info.keys()) - female_count\n",
    "    female_genre_count = 0\n",
    "    male_genre_count = 0\n",
    "    for i in indices:\n",
    "        recommendations = movie_info[i]\n",
    "        has_genre_male = False\n",
    "        has_genre_female = False\n",
    "        for rec in recommendations:\n",
    "            for genre in rec:\n",
    "                if genre['name'] == eval_genre and user_info[i]['gender'] == 'F' and not has_genre_female:\n",
    "                    female_genre_count += 1\n",
    "                    has_genre_female = True\n",
    "                if genre['name'] == eval_genre and user_info[i]['gender'] == 'M' and not has_genre_male:\n",
    "                    male_genre_count += 1\n",
    "                    has_genre_male = True\n",
    "    return female_genre_count/female_count, male_genre_count/male_count"
   ]
  },
  {
   "cell_type": "markdown",
   "id": "5cb4ab38",
   "metadata": {},
   "source": [
    "### Calculate: $P(Y' = 1| A= male)$ Where $Y'$ is Romance"
   ]
  },
  {
   "cell_type": "code",
   "execution_count": 185,
   "id": "6d272b99",
   "metadata": {},
   "outputs": [
    {
     "data": {
      "text/plain": [
       "0.9856801909307876"
      ]
     },
     "execution_count": 185,
     "metadata": {},
     "output_type": "execute_result"
    }
   ],
   "source": [
    "movie_genre_ratio_by_gender('Romance')[1]"
   ]
  },
  {
   "cell_type": "markdown",
   "id": "c32f6d51",
   "metadata": {},
   "source": [
    "### Calculate: $P(Y' = 1| A= female)$ Where $Y'$ is Romance"
   ]
  },
  {
   "cell_type": "code",
   "execution_count": 186,
   "id": "9c95d9c9",
   "metadata": {},
   "outputs": [
    {
     "data": {
      "text/plain": [
       "1.0"
      ]
     },
     "execution_count": 186,
     "metadata": {},
     "output_type": "execute_result"
    }
   ],
   "source": [
    "movie_genre_ratio_by_gender('Romance')[0]"
   ]
  },
  {
   "cell_type": "markdown",
   "id": "df073370",
   "metadata": {},
   "source": [
    "$$\\frac{P(Y' = 1| A= male)}{ P(Y' = 1| A= female)}  = 0.9857 \\ge 0.8$$"
   ]
  },
  {
   "cell_type": "markdown",
   "id": "e189269c",
   "metadata": {},
   "source": [
    "Therefore, the probability that romance movies are recommended to females and males satisfies the four-fifth rule, which we conclude our model is fair in recommending science fictions movies across different genders."
   ]
  },
  {
   "cell_type": "markdown",
   "id": "54749e07",
   "metadata": {},
   "source": [
    "### Calculate: $P(Y' = 1| A= male)$ Where $Y'$ is Action"
   ]
  },
  {
   "cell_type": "code",
   "execution_count": 187,
   "id": "75875065",
   "metadata": {},
   "outputs": [
    {
     "data": {
      "text/plain": [
       "1.0"
      ]
     },
     "execution_count": 187,
     "metadata": {},
     "output_type": "execute_result"
    }
   ],
   "source": [
    "movie_genre_ratio_by_gender('Action')[1]"
   ]
  },
  {
   "cell_type": "markdown",
   "id": "e998ee92",
   "metadata": {},
   "source": [
    "### Calculate: $P(Y' = 1| A= female)$ Where $Y'$ is Action"
   ]
  },
  {
   "cell_type": "code",
   "execution_count": 188,
   "id": "3396189d",
   "metadata": {},
   "outputs": [
    {
     "data": {
      "text/plain": [
       "1.0"
      ]
     },
     "execution_count": 188,
     "metadata": {},
     "output_type": "execute_result"
    }
   ],
   "source": [
    "movie_genre_ratio_by_gender('Action')[0]"
   ]
  },
  {
   "cell_type": "markdown",
   "id": "06f36028",
   "metadata": {},
   "source": [
    "$$\\frac{P(Y' = 1| A= male)}{ P(Y' = 1| A= female)}  = 1 \\ge 0.8$$"
   ]
  },
  {
   "cell_type": "markdown",
   "id": "0363b245",
   "metadata": {},
   "source": [
    "Therefore, the probability that action movies are recommended to females and males satisfies the four-fifth rule, which we conclude our model is fair in recommending science fictions movies across different genders."
   ]
  },
  {
   "cell_type": "code",
   "execution_count": null,
   "id": "ab0b2c64",
   "metadata": {},
   "outputs": [],
   "source": []
  }
 ],
 "metadata": {
  "kernelspec": {
   "display_name": "p3workshop",
   "language": "python",
   "name": "p3workshop"
  },
  "language_info": {
   "codemirror_mode": {
    "name": "ipython",
    "version": 3
   },
   "file_extension": ".py",
   "mimetype": "text/x-python",
   "name": "python",
   "nbconvert_exporter": "python",
   "pygments_lexer": "ipython3",
   "version": "3.10.10"
  }
 },
 "nbformat": 4,
 "nbformat_minor": 5
}
